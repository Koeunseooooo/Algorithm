{
  "nbformat": 4,
  "nbformat_minor": 0,
  "metadata": {
    "colab": {
      "name": "python_고급문법.ipynb",
      "provenance": [],
      "collapsed_sections": [],
      "authorship_tag": "ABX9TyMZUuhSoUVf0O7DqIT1Vtci",
      "include_colab_link": true
    },
    "kernelspec": {
      "name": "python3",
      "display_name": "Python 3"
    }
  },
  "cells": [
    {
      "cell_type": "markdown",
      "metadata": {
        "id": "view-in-github",
        "colab_type": "text"
      },
      "source": [
        "<a href=\"https://colab.research.google.com/github/Koeunseooooo/Algorithm/blob/main/python_%EA%B3%A0%EA%B8%89%EB%AC%B8%EB%B2%95.ipynb\" target=\"_parent\"><img src=\"https://colab.research.google.com/assets/colab-badge.svg\" alt=\"Open In Colab\"/></a>"
      ]
    },
    {
      "cell_type": "markdown",
      "metadata": {
        "id": "ubk4AP5b-jEA"
      },
      "source": [
        "# 파이썬 고급 문법"
      ]
    },
    {
      "cell_type": "markdown",
      "metadata": {
        "id": "mOtQ5oVZ-YY7"
      },
      "source": [
        "+ 인덴트, 네이밍 컨벤션, 타입힌트, 리스트 컴프리핸션, 제너레이터, range, enumerate, //나눗셈 연산자, print, pass, locals "
      ]
    },
    {
      "cell_type": "markdown",
      "metadata": {
        "id": "KiX5KmVw-fCL"
      },
      "source": [
        "## 인덱스"
      ]
    },
    {
      "cell_type": "markdown",
      "metadata": {
        "id": "zwy_uAFL-s9s"
      },
      "source": [
        "공백 4칸을 원칙으로 한다."
      ]
    },
    {
      "cell_type": "markdown",
      "metadata": {
        "id": "xbFuXNya-1CJ"
      },
      "source": [
        "## 네이밍 컨벤션"
      ]
    },
    {
      "cell_type": "markdown",
      "metadata": {
        "id": "OIa9Gemn9ybD"
      },
      "source": [
        "파이썬의 변수명 네이밍컨벤션은 자바와 달리 각 단어를 밑줄(_)로 구분하여 표기하는 스테이크 케이스를 따른다.  \r\n",
        "<-> 카멜 케이스 : 대소문자를 구별하여 표기하는 방식"
      ]
    },
    {
      "cell_type": "markdown",
      "metadata": {
        "id": "H3DFRS6j_QoO"
      },
      "source": [
        "## 타입힌트\r\n"
      ]
    },
    {
      "cell_type": "markdown",
      "metadata": {
        "id": "F_qeio5k_ZPP"
      },
      "source": [
        "파이썬은 대표적인 동적 타이핑 언어이지만, 타입을 지정할 수 있는 타입힌트가 PEP 484에서 추가되었다. 파이썬 버전 3.5부터 사용할 수 있다.  \r\n",
        "  \r\n",
        "\r\n",
        "기존에는 타입 힌트를 사용하지 않았지만(이는 빠르게 정의하여 사용할 수 있다는 장점이 있다) 함수의 파라미터 a에는 숫자를 넘겨야 하는지, 문자를 넘겨야 하는지 전혀 알 수 없으며, 이 함수의 리턴값(타입(이 무엇인지도 알 수 없다. 이는 나중에 프로젝트의 규모가 커지게 되면 **가독성**을 이탤릭체 텍스트 떨어뜨리게 되며 무엇보다 **버그유발**의 주범이 된다."
      ]
    },
    {
      "cell_type": "code",
      "metadata": {
        "id": "q7u3TPHj_T9X"
      },
      "source": [
        "a: str =\"1\"\r\n",
        "b: int =1"
      ],
      "execution_count": null,
      "outputs": []
    },
    {
      "cell_type": "code",
      "metadata": {
        "colab": {
          "base_uri": "https://localhost:8080/"
        },
        "id": "tH2k3aOs_2fB",
        "outputId": "82fc18ef-4ca7-452e-8252-69073e527e26"
      },
      "source": [
        "print(type(a))"
      ],
      "execution_count": null,
      "outputs": [
        {
          "output_type": "stream",
          "text": [
            "<class 'str'>\n"
          ],
          "name": "stdout"
        }
      ]
    },
    {
      "cell_type": "code",
      "metadata": {
        "id": "74VEqWkG_7k5"
      },
      "source": [
        "def fn(a: int) -> bool:\r\n",
        "\r\n",
        "  return True"
      ],
      "execution_count": null,
      "outputs": []
    },
    {
      "cell_type": "markdown",
      "metadata": {
        "id": "vy15-RKmA9Aw"
      },
      "source": [
        "이처럼 타입 힌트를 사용하게 되면 이제 fn()함수의 파라미터가 a가 정수형임을 분명하게 알 수 있으며 리턴 값으로 True 또는 False를 리턴할 것이라는 점도 확실히 알 수 있다.\r\n",
        "\r\n",
        "***이점***  \r\n",
        "\r\n",
        "1. 명시적 선언으로 인해 가독성이 좋아짐\r\n",
        "2. 버그 발생 확률 줄일 수 있다.  \r\n",
        " (주의) 강제 규약이 아니다 보니, 여전히 동적으로 할당될 수 있음."
      ]
    },
    {
      "cell_type": "code",
      "metadata": {
        "colab": {
          "base_uri": "https://localhost:8080/"
        },
        "id": "i_drRv2WAKmh",
        "outputId": "d51b40a1-c12b-448f-a32c-e1b83682e4fb"
      },
      "source": [
        "print(fn(3))"
      ],
      "execution_count": null,
      "outputs": [
        {
          "output_type": "stream",
          "text": [
            "True\n"
          ],
          "name": "stdout"
        }
      ]
    },
    {
      "cell_type": "markdown",
      "metadata": {
        "id": "zg7oM3XnBh6G"
      },
      "source": [
        "## 리스트 컴프리헨션"
      ]
    },
    {
      "cell_type": "markdown",
      "metadata": {
        "id": "oHxluZhKBmXw"
      },
      "source": [
        "### map함수"
      ]
    },
    {
      "cell_type": "markdown",
      "metadata": {
        "id": "qBYQyUUPCnZ_"
      },
      "source": [
        "map은 리스트의 요소를 지정된 함수로 처리해주는 함수입니다(map은 원본 리스트를 변경하지 않고 새 리스트를 생성합니다).  \r\n",
        "+ list(map(함수,리스트))\r\n",
        "+ tuple(map(함수,투플))"
      ]
    },
    {
      "cell_type": "markdown",
      "metadata": {
        "id": "tGu51pqpExwX"
      },
      "source": [
        "함수는 단순히 형변환도 가능합니다 ( int,str 등 )"
      ]
    },
    {
      "cell_type": "code",
      "metadata": {
        "colab": {
          "base_uri": "https://localhost:8080/"
        },
        "id": "ZmdLGr6BCtrb",
        "outputId": "db2e9ed4-e9ed-4b17-c1c3-320a77af96f8"
      },
      "source": [
        "# map 적용 안했을때\r\n",
        "a=[1.2,3.3,4.5]\r\n",
        "\r\n",
        "for i in range(len(a)) :\r\n",
        "  a[i]=int(a[i])\r\n",
        "print(a)"
      ],
      "execution_count": null,
      "outputs": [
        {
          "output_type": "stream",
          "text": [
            "[1, 3, 4]\n"
          ],
          "name": "stdout"
        }
      ]
    },
    {
      "cell_type": "code",
      "metadata": {
        "colab": {
          "base_uri": "https://localhost:8080/"
        },
        "id": "L-K64v0WC_k7",
        "outputId": "674d9616-b093-413a-fb90-4eacef6614ce"
      },
      "source": [
        "# map 적용 했을때 \r\n",
        "b= list(map(int,a))\r\n",
        "print(b)"
      ],
      "execution_count": null,
      "outputs": [
        {
          "output_type": "stream",
          "text": [
            "[1, 3, 4]\n"
          ],
          "name": "stdout"
        }
      ]
    },
    {
      "cell_type": "markdown",
      "metadata": {
        "id": "fYhpPD66Ebwm"
      },
      "source": [
        "map()의 출력결과는 iterator이기 때문에 아래와 같이 맞는 결과인지 확인 할 수 없습니다. next를 이용하여 하나씩 확인해보아도 되지만 대부분 형변환(list나 tuple등)을 하여 결과를 확인합니다."
      ]
    },
    {
      "cell_type": "code",
      "metadata": {
        "colab": {
          "base_uri": "https://localhost:8080/"
        },
        "id": "txupcB5oEKRX",
        "outputId": "edfaecdf-3fc6-45a0-8e14-938d62def421"
      },
      "source": [
        "target=[2.2,3.3,4.4]\r\n",
        "hello=map(lambda x: x+1, target)\r\n",
        "print(hello)"
      ],
      "execution_count": null,
      "outputs": [
        {
          "output_type": "stream",
          "text": [
            "<map object at 0x7fb01d5bdd10>\n"
          ],
          "name": "stdout"
        }
      ]
    },
    {
      "cell_type": "code",
      "metadata": {
        "colab": {
          "base_uri": "https://localhost:8080/"
        },
        "id": "nAd7ePqwEqP7",
        "outputId": "473c3142-a4c8-4071-e3ac-b868a1c2a0dd"
      },
      "source": [
        "print(list(hello))"
      ],
      "execution_count": null,
      "outputs": [
        {
          "output_type": "stream",
          "text": [
            "[3.2, 4.3, 5.4]\n"
          ],
          "name": "stdout"
        }
      ]
    },
    {
      "cell_type": "markdown",
      "metadata": {
        "id": "rrbNTst4DYG_"
      },
      "source": [
        "### filter 함수"
      ]
    },
    {
      "cell_type": "markdown",
      "metadata": {
        "id": "sqLCCpIgE3VH"
      },
      "source": [
        "map함수와 사용방법은 동일하나, 함수의 값이 참이냐 거짓이냐에 따라 해당요소를 포함할 지 결정합니다."
      ]
    },
    {
      "cell_type": "code",
      "metadata": {
        "colab": {
          "base_uri": "https://localhost:8080/"
        },
        "id": "XUKVGVUPFT25",
        "outputId": "e74197fe-3c58-4bf7-d214-dbc9dff90ba6"
      },
      "source": [
        "# filter 적용 안했을 때\r\n",
        "target = [ 1,2,3,4,5,6,7 ]\r\n",
        "new=[]\r\n",
        "\r\n",
        "def is_even(num: int) -> bool:\r\n",
        "  if num%2 ==0 :\r\n",
        "    return True\r\n",
        "  else :\r\n",
        "    return False\r\n",
        "\r\n",
        "\r\n",
        "\r\n",
        "for i in target :\r\n",
        "  if is_even(i):\r\n",
        "    new.append(i)\r\n",
        "  \r\n",
        "print(new)"
      ],
      "execution_count": null,
      "outputs": [
        {
          "output_type": "stream",
          "text": [
            "[2, 4, 6]\n"
          ],
          "name": "stdout"
        }
      ]
    },
    {
      "cell_type": "code",
      "metadata": {
        "colab": {
          "base_uri": "https://localhost:8080/"
        },
        "id": "7S5YONo5FqsS",
        "outputId": "aa24f280-5303-4c47-bd5a-81a2d9d4574b"
      },
      "source": [
        "# filter 적용 했을 때\r\n",
        "target=[1,2,3,4,5,6]\r\n",
        "a= filter(lambda x: x%2==0, target)\r\n",
        "print(a)\r\n",
        "print(list(a))\r\n",
        "#print(list(a[2])) 이건 안됨..\r\n",
        "\r\n",
        "b=list(filter(lambda x: x%2==0, target))\r\n",
        "print(b)\r\n",
        "print(b[2])\r\n"
      ],
      "execution_count": null,
      "outputs": [
        {
          "output_type": "stream",
          "text": [
            "<filter object at 0x7fb01d547b10>\n",
            "[2, 4, 6]\n",
            "[2, 4, 6]\n",
            "6\n"
          ],
          "name": "stdout"
        }
      ]
    },
    {
      "cell_type": "markdown",
      "metadata": {
        "id": "QD1xg9lZJfpI"
      },
      "source": [
        "### 리스트 컴프리헨션"
      ]
    },
    {
      "cell_type": "markdown",
      "metadata": {
        "id": "0HdNq_WVJm-A"
      },
      "source": [
        "기존 리스트를 기반으로 새로운 리스트를 만들어내는 구문  \r\n",
        "(딕셔너리도 가능)"
      ]
    },
    {
      "cell_type": "code",
      "metadata": {
        "colab": {
          "base_uri": "https://localhost:8080/"
        },
        "id": "udJMvINVJqRI",
        "outputId": "0a4ea212-55a9-41bd-c34b-6dcffbb0f27c"
      },
      "source": [
        "# 리스트 컴프리헨션을 사용한 경우\r\n",
        "[n*2 for n in range(1, 10+1) if n%2 ==1 ]"
      ],
      "execution_count": null,
      "outputs": [
        {
          "output_type": "execute_result",
          "data": {
            "text/plain": [
              "[2, 6, 10, 14, 18]"
            ]
          },
          "metadata": {
            "tags": []
          },
          "execution_count": 65
        }
      ]
    },
    {
      "cell_type": "code",
      "metadata": {
        "colab": {
          "base_uri": "https://localhost:8080/"
        },
        "id": "CfIJx-ykJyf9",
        "outputId": "d41b2cf2-a1e1-42b6-b65a-a0575005ffad"
      },
      "source": [
        "# 리스트 컴프리헨션을 사용하지 않은 경우\r\n",
        "a = []\r\n",
        "for n in range(1,10+1):\r\n",
        "  if n%2 == 1 :\r\n",
        "    a.append(n*2)\r\n",
        "a"
      ],
      "execution_count": null,
      "outputs": [
        {
          "output_type": "execute_result",
          "data": {
            "text/plain": [
              "[2, 6, 10, 14, 18]"
            ]
          },
          "metadata": {
            "tags": []
          },
          "execution_count": 66
        }
      ]
    },
    {
      "cell_type": "markdown",
      "metadata": {
        "id": "i8u640k7KDeC"
      },
      "source": [
        "## 제너레이터"
      ]
    },
    {
      "cell_type": "markdown",
      "metadata": {
        "id": "aeLoQ1BvKOSj"
      },
      "source": [
        "루프의 iteration 동작을 제어할 수 있는 루틴 형태  \r\n",
        "ex. 임의의 조건으로 숫자 1억개를 만들어내는 프로그램 작성  \r\n",
        "- 제너레이터 x : 메모리 어딘가에 숫자 1억 개를 보관해야 함  \r\n",
        "- 제너레이터 o : 단순히 제너레이터만 생성해두고 필요할 때 언제든 생성 가능"
      ]
    },
    {
      "cell_type": "markdown",
      "metadata": {
        "id": "VJHHp4X4KjYH"
      },
      "source": [
        "yield 구문을 사용하면 제너레이터를 리턴할 수 있음.  \r\n",
        "<-> 기존의 함수는 return 구분을 맞닥뜨리면 값을 리턴하고 모든 함수의 동작 종료  "
      ]
    },
    {
      "cell_type": "code",
      "metadata": {
        "colab": {
          "base_uri": "https://localhost:8080/"
        },
        "id": "jWWxoH-HK0rj",
        "outputId": "f69a1dd0-dfea-4d40-e9db-1f8baa8f62e5"
      },
      "source": [
        "def get_natural_number() :\r\n",
        "  n=0\r\n",
        "  while True :\r\n",
        "    n +=1\r\n",
        "    yield n\r\n",
        "get_natural_number()"
      ],
      "execution_count": null,
      "outputs": [
        {
          "output_type": "execute_result",
          "data": {
            "text/plain": [
              "<generator object get_natural_number at 0x7fb01d6ffb50>"
            ]
          },
          "metadata": {
            "tags": []
          },
          "execution_count": 67
        }
      ]
    },
    {
      "cell_type": "markdown",
      "metadata": {
        "id": "0zIPl3KxLLiR"
      },
      "source": [
        "만약 다음 값을 생성하려면 **next()**로 추출하면 된다. 예를 들어 100개의 값을 생성하고 싶다면 다음과 같이 100번동안 nect()를 수행하면 된다."
      ]
    },
    {
      "cell_type": "code",
      "metadata": {
        "id": "lhTbDWwyK-LG"
      },
      "source": [
        "g=get_natural_number()\r\n",
        "for _ in range(0,100):\r\n",
        "  print(next(g))\r\n",
        "  "
      ],
      "execution_count": null,
      "outputs": []
    },
    {
      "cell_type": "markdown",
      "metadata": {
        "id": "-xXyNhbELF0Y"
      },
      "source": [
        "아울러 제너레이터는 다음과 같이 여러 타입의 값을 하나의 함수에서 생성하는 것도 가능하다."
      ]
    },
    {
      "cell_type": "code",
      "metadata": {
        "colab": {
          "base_uri": "https://localhost:8080/"
        },
        "id": "39PbzJjTLYxn",
        "outputId": "e9ebccb3-5ab8-4abe-cfbf-4cfa798a80d6"
      },
      "source": [
        "def generator() :\r\n",
        "  yield 1\r\n",
        "  yield 'string'\r\n",
        "  yield True\r\n",
        "g= generator()\r\n",
        "g"
      ],
      "execution_count": null,
      "outputs": [
        {
          "output_type": "execute_result",
          "data": {
            "text/plain": [
              "<generator object generator at 0x7fb01d5d2c50>"
            ]
          },
          "metadata": {
            "tags": []
          },
          "execution_count": 73
        }
      ]
    },
    {
      "cell_type": "code",
      "metadata": {
        "colab": {
          "base_uri": "https://localhost:8080/"
        },
        "id": "uExIm-PTLhdF",
        "outputId": "b4745856-7943-4937-d39f-0b7041ab92d4"
      },
      "source": [
        "print(next(g))\r\n",
        "print(next(g))\r\n",
        "print(next(g))"
      ],
      "execution_count": null,
      "outputs": [
        {
          "output_type": "stream",
          "text": [
            "1\n",
            "string\n",
            "True\n"
          ],
          "name": "stdout"
        }
      ]
    },
    {
      "cell_type": "markdown",
      "metadata": {
        "id": "X9LLzQtaLkrw"
      },
      "source": [
        "## range"
      ]
    },
    {
      "cell_type": "markdown",
      "metadata": {
        "id": "PAIGRg7GL1cr"
      },
      "source": [
        "제너레이터 방식을 활용하는 대표적인 함수로 range()가 있다. "
      ]
    },
    {
      "cell_type": "code",
      "metadata": {
        "colab": {
          "base_uri": "https://localhost:8080/"
        },
        "id": "xsLm1m4TL-rs",
        "outputId": "054af17d-7b2f-49dc-8372-a2463c44f00b"
      },
      "source": [
        "print(list(range(5)))\r\n",
        "print(range(5))\r\n",
        "print(type(range(5)))\r\n",
        "for i in range(5):\r\n",
        "  print(i,end=' ')"
      ],
      "execution_count": null,
      "outputs": [
        {
          "output_type": "stream",
          "text": [
            "[0, 1, 2, 3, 4]\n",
            "range(0, 5)\n",
            "<class 'range'>\n",
            "0 1 2 3 4 "
          ],
          "name": "stdout"
        }
      ]
    },
    {
      "cell_type": "code",
      "metadata": {
        "id": "cze816TLMFo8"
      },
      "source": [
        "a=[n for n in range(10000)]"
      ],
      "execution_count": null,
      "outputs": []
    },
    {
      "cell_type": "code",
      "metadata": {
        "id": "4H0ASZ-WMhTM"
      },
      "source": [
        "b= range(10000)"
      ],
      "execution_count": null,
      "outputs": []
    },
    {
      "cell_type": "code",
      "metadata": {
        "id": "scXkI1EnMif4"
      },
      "source": [
        "a"
      ],
      "execution_count": null,
      "outputs": []
    },
    {
      "cell_type": "code",
      "metadata": {
        "colab": {
          "base_uri": "https://localhost:8080/"
        },
        "id": "dbFsMQFjMkbI",
        "outputId": "4b9ac988-ba55-4a77-e573-e62e67c41658"
      },
      "source": [
        "b"
      ],
      "execution_count": null,
      "outputs": [
        {
          "output_type": "execute_result",
          "data": {
            "text/plain": [
              "range(0, 10000)"
            ]
          },
          "metadata": {
            "tags": []
          },
          "execution_count": 80
        }
      ]
    },
    {
      "cell_type": "markdown",
      "metadata": {
        "id": "xwlZpT_5M6ZI"
      },
      "source": [
        "a는 이미 생성된 값이 담겨있고, b는 생성해야 한다는 조건만 존재한다.  \r\n",
        "이제 둘 사이의 **메모리 점유율**을 비교해보면 range 클래스를 리턴하는 방식의 장점이 쉽게 와닿을 것이다."
      ]
    },
    {
      "cell_type": "code",
      "metadata": {
        "colab": {
          "base_uri": "https://localhost:8080/"
        },
        "id": "j99z_WiSMmBM",
        "outputId": "f5a449de-d31a-4bf0-9717-1795aba3a699"
      },
      "source": [
        "import sys\r\n",
        "sys.getsizeof(a)"
      ],
      "execution_count": null,
      "outputs": [
        {
          "output_type": "execute_result",
          "data": {
            "text/plain": [
              "87632"
            ]
          },
          "metadata": {
            "tags": []
          },
          "execution_count": 87
        }
      ]
    },
    {
      "cell_type": "code",
      "metadata": {
        "colab": {
          "base_uri": "https://localhost:8080/"
        },
        "id": "PXHLJMuRMoq6",
        "outputId": "8eebbede-3fb2-42c9-b90f-696221acbafa"
      },
      "source": [
        "sys.getsizeof(b)"
      ],
      "execution_count": null,
      "outputs": [
        {
          "output_type": "execute_result",
          "data": {
            "text/plain": [
              "48"
            ]
          },
          "metadata": {
            "tags": []
          },
          "execution_count": 88
        }
      ]
    },
    {
      "cell_type": "markdown",
      "metadata": {
        "id": "XiiBXOQ0M4wq"
      },
      "source": [
        "## enumerate"
      ]
    },
    {
      "cell_type": "markdown",
      "metadata": {
        "id": "azzXEaj3NJzl"
      },
      "source": [
        "순서가 있는 자료형(list,tupel,set등)을 **인덱스**를 포함한 emurate객체로 리턴한다."
      ]
    },
    {
      "cell_type": "code",
      "metadata": {
        "colab": {
          "base_uri": "https://localhost:8080/"
        },
        "id": "B3FBXy1ZNSTL",
        "outputId": "04afee1f-10f7-4d39-dcdb-f0b97431b15b"
      },
      "source": [
        "a=[1,2,3,2,45,2,5]\r\n",
        "a"
      ],
      "execution_count": null,
      "outputs": [
        {
          "output_type": "execute_result",
          "data": {
            "text/plain": [
              "[1, 2, 3, 2, 45, 2, 5]"
            ]
          },
          "metadata": {
            "tags": []
          },
          "execution_count": 98
        }
      ]
    },
    {
      "cell_type": "code",
      "metadata": {
        "colab": {
          "base_uri": "https://localhost:8080/"
        },
        "id": "HlhDrdMENVeV",
        "outputId": "f214f07c-21d0-42bf-c792-55893bff8027"
      },
      "source": [
        "b=list(enumerate(a))\r\n",
        "# list()로 결과를 추출할 수 있는데, 인덱스를 자동으로 부여해주기 때문에 매우 편리하게 사용할 수 있다.\r\n",
        "print(b)\r\n",
        "print(b[4])\r\n"
      ],
      "execution_count": null,
      "outputs": [
        {
          "output_type": "stream",
          "text": [
            "[(0, 1), (1, 2), (2, 3), (3, 2), (4, 45), (5, 2), (6, 5)]\n",
            "(4, 45)\n"
          ],
          "name": "stdout"
        }
      ]
    },
    {
      "cell_type": "code",
      "metadata": {
        "colab": {
          "base_uri": "https://localhost:8080/"
        },
        "id": "4FD8DMpeNXO-",
        "outputId": "27a1283e-11d0-4a2c-d1ab-3bcae4e65c2d"
      },
      "source": [
        "# enumerate를 사용하지 않는다면?\r\n",
        "for i in range(len(a)):\r\n",
        "  print(i,a[i])\r\n",
        "# 불필요한 a[i] 조희작업과 전체길이를 조회해야한다는 점이 있다."
      ],
      "execution_count": null,
      "outputs": [
        {
          "output_type": "stream",
          "text": [
            "0 1\n",
            "1 2\n",
            "2 3\n",
            "3 2\n",
            "4 45\n",
            "5 2\n",
            "6 5\n"
          ],
          "name": "stdout"
        }
      ]
    },
    {
      "cell_type": "markdown",
      "metadata": {
        "id": "N-4Vpg4ROM8g"
      },
      "source": [
        "## // 나눗셈 연산자"
      ]
    },
    {
      "cell_type": "markdown",
      "metadata": {
        "id": "BZavyJ30OP47"
      },
      "source": [
        "- //연산자는 몫을 구하는 연산자이다 "
      ]
    },
    {
      "cell_type": "code",
      "metadata": {
        "colab": {
          "base_uri": "https://localhost:8080/"
        },
        "id": "X6iDIlGjOVo8",
        "outputId": "7e18c92b-77ed-46c5-ab0a-1f0cd748fd02"
      },
      "source": [
        "5//3 # int(5//3)과 동일한 표현식이다."
      ],
      "execution_count": null,
      "outputs": [
        {
          "output_type": "execute_result",
          "data": {
            "text/plain": [
              "1"
            ]
          },
          "metadata": {
            "tags": []
          },
          "execution_count": 105
        }
      ]
    },
    {
      "cell_type": "code",
      "metadata": {
        "colab": {
          "base_uri": "https://localhost:8080/"
        },
        "id": "p2Kj1KbjOXE4",
        "outputId": "04167ac7-fe6d-413b-810a-2feb9991c609"
      },
      "source": [
        "5/3"
      ],
      "execution_count": null,
      "outputs": [
        {
          "output_type": "execute_result",
          "data": {
            "text/plain": [
              "1.6666666666666667"
            ]
          },
          "metadata": {
            "tags": []
          },
          "execution_count": 106
        }
      ]
    },
    {
      "cell_type": "code",
      "metadata": {
        "colab": {
          "base_uri": "https://localhost:8080/"
        },
        "id": "zvUY3IpvOmmL",
        "outputId": "3938c36e-6c00-40bd-f7fd-e5011bbc5ccd"
      },
      "source": [
        "5%3"
      ],
      "execution_count": null,
      "outputs": [
        {
          "output_type": "execute_result",
          "data": {
            "text/plain": [
              "2"
            ]
          },
          "metadata": {
            "tags": []
          },
          "execution_count": 107
        }
      ]
    },
    {
      "cell_type": "code",
      "metadata": {
        "colab": {
          "base_uri": "https://localhost:8080/"
        },
        "id": "JRJ7B7KTOnuR",
        "outputId": "f1828e09-b58d-4613-d72e-ed4ab29f74b8"
      },
      "source": [
        "divmod(5,3) #몫과 나머지를 한 번에 구할 때"
      ],
      "execution_count": null,
      "outputs": [
        {
          "output_type": "execute_result",
          "data": {
            "text/plain": [
              "(1, 2)"
            ]
          },
          "metadata": {
            "tags": []
          },
          "execution_count": 109
        }
      ]
    },
    {
      "cell_type": "markdown",
      "metadata": {
        "id": "XGhu6BcCOsKC"
      },
      "source": [
        "## print"
      ]
    },
    {
      "cell_type": "code",
      "metadata": {
        "colab": {
          "base_uri": "https://localhost:8080/"
        },
        "id": "SxsJtXGpOv7j",
        "outputId": "dd1931cd-1b0b-499b-f4a9-ae1b3a130e62"
      },
      "source": [
        "print('A1','A2') #자동 띄어쓰기로 값을 구분해줌\r\n",
        "print('A1','A2', sep=',') # 구분자를 콤마(,)로 지정해줄 수도 있다.\r\n",
        "#print()는 항상 줄바꿈을 해준다."
      ],
      "execution_count": null,
      "outputs": [
        {
          "output_type": "stream",
          "text": [
            "A1 A2\n",
            "A1,A2\n"
          ],
          "name": "stdout"
        }
      ]
    },
    {
      "cell_type": "code",
      "metadata": {
        "colab": {
          "base_uri": "https://localhost:8080/"
        },
        "id": "1qlD5vreO5o7",
        "outputId": "e54cc6c5-8a45-4ae5-f1d6-34523b836aa2"
      },
      "source": [
        "print('aa', end=' ')\r\n",
        "print('bb')"
      ],
      "execution_count": null,
      "outputs": [
        {
          "output_type": "stream",
          "text": [
            "aa bb\n"
          ],
          "name": "stdout"
        }
      ]
    },
    {
      "cell_type": "code",
      "metadata": {
        "colab": {
          "base_uri": "https://localhost:8080/"
        },
        "id": "cFyjhUUjPFX_",
        "outputId": "7c23a636-bdcf-48f3-b521-26040c96501c"
      },
      "source": [
        "# 리스트를 출력할 때는 join()으로 묶어서 처리한다.\r\n",
        "a = ['A', 'B']\r\n",
        "print(' '.join(a))"
      ],
      "execution_count": null,
      "outputs": [
        {
          "output_type": "stream",
          "text": [
            "A B\n"
          ],
          "name": "stdout"
        }
      ]
    },
    {
      "cell_type": "code",
      "metadata": {
        "colab": {
          "base_uri": "https://localhost:8080/"
        },
        "id": "9xv0fPEZPRPY",
        "outputId": "152069c9-12c0-442d-f6c5-5b7bddd67bb3"
      },
      "source": [
        "# format과 f-string 방법\r\n",
        "print('{0}:{1}'.format(2,\"str\"))\r\n",
        "print(f'{2}:{\"str\"}')"
      ],
      "execution_count": null,
      "outputs": [
        {
          "output_type": "stream",
          "text": [
            "2:str\n",
            "2:str\n"
          ],
          "name": "stdout"
        }
      ]
    },
    {
      "cell_type": "markdown",
      "metadata": {
        "id": "tC9FwBRzPj_H"
      },
      "source": [
        "## pass"
      ]
    },
    {
      "cell_type": "markdown",
      "metadata": {
        "id": "A3qg9wDvPtrc"
      },
      "source": [
        "코딩을 하다보면 일단 코드의 전체 골격을 잡아놓고 내부에서 처리할 내용은 차근차근 생각하며 만들겠다는 의도로 다음과 같이 코딩하는 경우가 있다."
      ]
    },
    {
      "cell_type": "code",
      "metadata": {
        "id": "OGNAFhRzP4EX"
      },
      "source": [
        "class MyClass(object):\r\n",
        "  def method_a(self):\r\n",
        "    pass\r\n",
        "  def method_b(self):\r\n",
        "    pass"
      ],
      "execution_count": null,
      "outputs": []
    },
    {
      "cell_type": "markdown",
      "metadata": {
        "id": "aF856cxwP-pW"
      },
      "source": [
        "# 구글 파이썬 스타일 가이드"
      ]
    },
    {
      "cell_type": "markdown",
      "metadata": {
        "id": "ndPwuqPsTKqK"
      },
      "source": [
        "함수의 기본값으로 가변객체(mutable object)를 사용하지 않아야 한다. 함수가 객체를 수정하면 기본값이 변경되기 때문이다. 따라서 다름과 같이 기본값으로 []나 {}를 사용하는 것은 지양해야 한다."
      ]
    },
    {
      "cell_type": "code",
      "metadata": {
        "id": "RBGgai73TVr4"
      },
      "source": [
        "# 지양\r\n",
        "def foo(a,b=[]):\r\n",
        "  pass\r\n",
        "\r\n",
        "def foo(a,b ={}):\r\n",
        "  pass\r\n"
      ],
      "execution_count": null,
      "outputs": []
    },
    {
      "cell_type": "markdown",
      "metadata": {
        "id": "eEKU8wPaTe4g"
      },
      "source": [
        "대신 다음과 같이 불변 객체(immutable object)를 사용한다. None을 명시적으로 할당하는 것도 좋은 방법이다."
      ]
    },
    {
      "cell_type": "code",
      "metadata": {
        "id": "UPHKHPzQTorm"
      },
      "source": [
        "def foo(a,b=None):\r\n",
        "  pass\r\n",
        "\r\n",
        "def foo(a,b=None):\r\n",
        "  if b==None:\r\n",
        "    b=[]\r\n",
        "    pass"
      ],
      "execution_count": null,
      "outputs": []
    },
    {
      "cell_type": "markdown",
      "metadata": {
        "id": "r7Wwubz9TwOY"
      },
      "source": [
        "Ture, Flase를 판별할 때는 암시적(implicit)인 방법을 사용하는 편이 간결하고  가독성이 좋다.  \r\n",
        "ex. len(users ==0 은 not users 로 충분하다"
      ]
    },
    {
      "cell_type": "markdown",
      "metadata": {
        "id": "3wrpRujJUOM4"
      },
      "source": [
        "그러나 정수를 처리할 때는 암시적이기 보다는 직접 비교하는 편이 덜 위험하다. 모듈로 연산 결과가 0인 것을 정수로 처리하지 않고 암시적 거짓 여부로 판별하는 위험하기 때문이다. "
      ]
    },
    {
      "cell_type": "markdown",
      "metadata": {
        "id": "R9w3hH68UZMG"
      },
      "source": [
        "#END!!"
      ]
    },
    {
      "cell_type": "code",
      "metadata": {
        "id": "Aol9Fao-UbHj",
        "colab": {
          "base_uri": "https://localhost:8080/"
        },
        "outputId": "5d81b4ff-f77b-44c0-9bc2-816b98b95723"
      },
      "source": [
        "import this"
      ],
      "execution_count": null,
      "outputs": [
        {
          "output_type": "stream",
          "text": [
            "The Zen of Python, by Tim Peters\n",
            "\n",
            "Beautiful is better than ugly.\n",
            "Explicit is better than implicit.\n",
            "Simple is better than complex.\n",
            "Complex is better than complicated.\n",
            "Flat is better than nested.\n",
            "Sparse is better than dense.\n",
            "Readability counts.\n",
            "Special cases aren't special enough to break the rules.\n",
            "Although practicality beats purity.\n",
            "Errors should never pass silently.\n",
            "Unless explicitly silenced.\n",
            "In the face of ambiguity, refuse the temptation to guess.\n",
            "There should be one-- and preferably only one --obvious way to do it.\n",
            "Although that way may not be obvious at first unless you're Dutch.\n",
            "Now is better than never.\n",
            "Although never is often better than *right* now.\n",
            "If the implementation is hard to explain, it's a bad idea.\n",
            "If the implementation is easy to explain, it may be a good idea.\n",
            "Namespaces are one honking great idea -- let's do more of those!\n"
          ],
          "name": "stdout"
        }
      ]
    },
    {
      "cell_type": "code",
      "metadata": {
        "id": "GEmWm95FUddp"
      },
      "source": [
        ""
      ],
      "execution_count": null,
      "outputs": []
    }
  ]
}